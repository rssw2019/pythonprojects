{
 "cells": [
  {
   "cell_type": "markdown",
   "id": "dc60830b-c2eb-44ce-857a-c51605999096",
   "metadata": {},
   "source": [
    "                            Regular Expressions\n",
    "Regular expressions are equivalent of CTRL+F and CTRL+R. There are powerful tools to find pattern in texts. They can come handy in searching matching text patterns. As for example, we can use regex method to extract email addresses or webaddresses from a large text file. Similarly they are useful for editing codes, verifying user inputs, scraping the web and many more.\n",
    "Cheat Sheet:\n",
    "https://cheatography.com/mutanclan/cheat-sheets/python-regular-expression-regex/ \n"
   ]
  },
  {
   "cell_type": "code",
   "execution_count": null,
   "id": "460a5da1-5356-426e-bbde-98dbd0cf36a9",
   "metadata": {},
   "outputs": [],
   "source": [
    "#import the regular expression package\n",
    "import re"
   ]
  },
  {
   "cell_type": "raw",
   "id": "e67cff8e-0310-4de1-b64e-22da937fbcc8",
   "metadata": {},
   "source": [
    "Project 1: Veryfing a uer's email\n",
    "We know the email address contains letters and numbers combination+@+some domain name +.com. This is an extermely useful tool because if a website has a sign in page, then we need to validate the email address."
   ]
  },
  {
   "cell_type": "code",
   "execution_count": null,
   "id": "abda39b7-9636-403c-a0d5-890c0c6b90b4",
   "metadata": {},
   "outputs": [],
   "source": [
    "valid_pattern=\"[a-zA-Z0-9]+@+[a-zA-Z]+\\.(com|net|edu|org)\"\n",
    "user_data=input(\"Please enter your email address\")\n",
    "if (re.search(valid_pattern,user_data)):\n",
    "    print(\"The email is valid\")\n",
    "else:\n",
    "    print(\"The email is not valid\")"
   ]
  },
  {
   "cell_type": "markdown",
   "id": "08d48cff-7681-41a4-848c-4e6bd80522a8",
   "metadata": {},
   "source": [
    "Project 2: Finding a given text pattern in a text string"
   ]
  },
  {
   "cell_type": "code",
   "execution_count": null,
   "id": "758191c2-8817-49bc-a0e7-cb3c5ad9d3bc",
   "metadata": {},
   "outputs": [],
   "source": [
    "string=\"Hellohowareyouhelloyouhowareyou?\"\n",
    "pattern=re.compile(\"you\")\n",
    "matches=pattern.finditer(string) \n",
    "\n",
    "for match in matches:\n",
    "    print(match)"
   ]
  },
  {
   "cell_type": "code",
   "execution_count": null,
   "id": "3c5d410b-a608-4fae-9062-e30a95876403",
   "metadata": {},
   "outputs": [],
   "source": [
    "#finditer method searches all the matches. \n",
    "#Other methods are search(), find() and findall()\n",
    "#similarly we can use group, start, end and span functions\n",
    "\n",
    "for match in matches:\n",
    "    print(match.span())"
   ]
  },
  {
   "cell_type": "code",
   "execution_count": null,
   "id": "5c602f10-2446-4d97-9b40-5e0d7791ee78",
   "metadata": {},
   "outputs": [],
   "source": [
    "for match in matches:\n",
    "    print(match.span(), match.start(), match.end())"
   ]
  },
  {
   "cell_type": "code",
   "execution_count": null,
   "id": "f4c3f785-5e50-4d49-a776-de549251f9a8",
   "metadata": {},
   "outputs": [],
   "source": [
    "for match in matches:\n",
    "    print(match.group())"
   ]
  },
  {
   "cell_type": "markdown",
   "id": "84230529-043c-4284-b0bb-2223ac9b5513",
   "metadata": {},
   "source": [
    "Metacharacters\n",
    ". Any character (except new line characer)\n",
    "^ start with \n",
    "$ Ends with\n",
    "*zero or more occurances\n",
    "{ } exactly the specified number of occurances\n",
    "[] A set of characeters \n",
    "\\ special sequence\n",
    "| either or\n",
    "( ) capture and group\n"
   ]
  },
  {
   "cell_type": "code",
   "execution_count": null,
   "id": "30eb0caa-1b47-46e3-8b6c-acba61a3fb68",
   "metadata": {},
   "outputs": [],
   "source": [
    "string=\"Hello\"\n",
    "pattern=re.compile(\".\")\n",
    "matches=pattern.finditer(string) \n",
    "\n",
    "for match in matches:\n",
    "    print(match)"
   ]
  },
  {
   "cell_type": "code",
   "execution_count": null,
   "id": "0b91c0ce-0f1e-4af3-93fc-fbea3f3c9f3f",
   "metadata": {},
   "outputs": [],
   "source": [
    "string=\"Hello\"\n",
    "pattern=re.compile(\"^H\")\n",
    "matches=pattern.finditer(string) \n",
    "\n",
    "for match in matches:\n",
    "    print(match)"
   ]
  },
  {
   "cell_type": "code",
   "execution_count": null,
   "id": "d7945e20-dcc2-42f5-b2f8-be8a853f6ca8",
   "metadata": {},
   "outputs": [],
   "source": [
    "string=\"Hello\"\n",
    "pattern=re.compile(\"^o\")\n",
    "matches=pattern.finditer(string) \n",
    "\n",
    "for match in matches:\n",
    "    print(match)"
   ]
  },
  {
   "cell_type": "code",
   "execution_count": null,
   "id": "3bdae863-ebe9-4e90-8795-e4918058ed12",
   "metadata": {},
   "outputs": [],
   "source": [
    "string=\"Hello\"\n",
    "pattern=re.compile(\"o$\")\n",
    "matches=pattern.finditer(string) \n",
    "\n",
    "for match in matches:\n",
    "    print(match)"
   ]
  },
  {
   "cell_type": "code",
   "execution_count": null,
   "id": "af1d4979-e651-4dab-a561-6c4ebc09f784",
   "metadata": {},
   "outputs": [],
   "source": [
    "string=\"Hello\"\n",
    "pattern=re.compile(\"H*\")\n",
    "matches=pattern.finditer(string) \n",
    "\n",
    "for match in matches:\n",
    "    print(match)"
   ]
  },
  {
   "cell_type": "markdown",
   "id": "cfd850b3-13ce-4a59-8e8c-0fef1f2149e8",
   "metadata": {},
   "source": [
    "more special characters: \\d, \\D,\n",
    "s, \\S, \\w, \\W, \\b, \\B"
   ]
  },
  {
   "cell_type": "code",
   "execution_count": null,
   "id": "8d04abea-2216-47b2-95e1-14d6075f3540",
   "metadata": {},
   "outputs": [],
   "source": [
    "string=\"hi who 234 _3 $\"\n",
    "pattern=re.compile(\"\\d\")\n",
    "matches=pattern.finditer(string) \n",
    "\n",
    "for match in matches:\n",
    "    print(match)"
   ]
  },
  {
   "cell_type": "code",
   "execution_count": null,
   "id": "3516bffe-10c8-4b41-aba5-e314ec2d5d5f",
   "metadata": {},
   "outputs": [],
   "source": [
    "string=\"hi who 234 _3 $ who\"\n",
    "pattern=re.compile(r\"\\bwho\")\n",
    "matches=pattern.finditer(string) \n",
    "\n",
    "total_count=0\n",
    "for match in matches:\n",
    "    total_count=total_count+1\n",
    "    print(match)\n",
    "print(total_count)"
   ]
  },
  {
   "cell_type": "markdown",
   "id": "4ba46818-1154-4729-b4bf-9cb62659f57d",
   "metadata": {},
   "source": [
    "Project: Count the total number of a particular word in a text file/paragraph"
   ]
  },
  {
   "cell_type": "code",
   "execution_count": null,
   "id": "1d3cb3f0-05ac-4855-9df4-d2880dae2644",
   "metadata": {},
   "outputs": [],
   "source": [
    "string=\"Video provides a powerful way to help you prove your point. When you click Online Video, you can paste in the embed code for the video you want to add. You can also type a keyword to search online for the video that best fits your document. To make your document look professionally produced, Word provides header, footer, cover page, and text box designs that complement each other. For example, you can add a matching cover page, header, and sidebar. Click Insert and then choose the elements you want from the different galleries. Themes and styles also help keep your document coordinated. When you click Design and choose a new Theme, the pictures, charts, and SmartArt graphics change to match your new theme. When you apply styles, your headings change to match the new theme. Save time in Word with new buttons that show up where you need them. To change the way a picture fits in your document, click it and a button for layout options appears next to it. When you work on a table, click where you want to add a row or a column, and then click the plus sign. Reading is easier, too, in the new Reading view. You can collapse parts of the document and focus on the text you want. If you need to stop reading before you reach the end, Word remembers where you left off - even on another device.\""
   ]
  },
  {
   "cell_type": "code",
   "execution_count": null,
   "id": "1d0a7c0b-da09-4ac4-a16e-f4abfee19f1d",
   "metadata": {},
   "outputs": [],
   "source": [
    "#Count the total number of the word \"to\" in the text\n",
    "pattern=re.compile(r\"\\bto\")\n",
    "matches=pattern.finditer(string) \n",
    "\n",
    "total_count=0\n",
    "for match in matches:\n",
    "    total_count=total_count+1\n",
    "    print(match)\n",
    "print(total_count)"
   ]
  },
  {
   "cell_type": "markdown",
   "id": "41e7ce26-dc75-45ee-8efb-49e0518d11d9",
   "metadata": {},
   "source": [
    "quantifiers: *, +, ?, {3}, {2,5}"
   ]
  },
  {
   "cell_type": "code",
   "execution_count": null,
   "id": "cb92cca1-e9e2-45ab-a795-316da171115f",
   "metadata": {},
   "outputs": [],
   "source": [
    "string=\"hi who3 234 _3 $\"\n",
    "pattern=re.compile(\"\\d+\")\n",
    "matches=pattern.finditer(string) \n",
    "\n",
    "for match in matches:\n",
    "    print(match)"
   ]
  },
  {
   "cell_type": "code",
   "execution_count": null,
   "id": "fac8269b-8145-493a-80de-f663e9885a9e",
   "metadata": {},
   "outputs": [],
   "source": [
    "string=\"hi who 234 _3 $\"\n",
    "pattern=re.compile(\"_\\d+\")\n",
    "matches=pattern.finditer(string) \n",
    "\n",
    "for match in matches:\n",
    "    print(match)"
   ]
  },
  {
   "cell_type": "code",
   "execution_count": null,
   "id": "b8474aeb-51d1-42a9-b110-393f4e5aaeff",
   "metadata": {},
   "outputs": [],
   "source": [
    "string=\"hi who 234 _3 $\"\n",
    "pattern=re.compile(\"_?\\d\")\n",
    "matches=pattern.finditer(string) \n",
    "\n",
    "for match in matches:\n",
    "    print(match)"
   ]
  },
  {
   "cell_type": "code",
   "execution_count": 53,
   "id": "b7e462a7-ebc2-40e0-8f7f-029987c9a98f",
   "metadata": {},
   "outputs": [
    {
     "name": "stdout",
     "output_type": "stream",
     "text": [
      "<re.Match object; span=(7, 10), match='234'>\n"
     ]
    }
   ],
   "source": [
    "string=\"hi who 234 _3 $\"\n",
    "pattern=re.compile(\"\\d{2,4}\")\n",
    "matches=pattern.finditer(string) \n",
    "\n",
    "for match in matches:\n",
    "    print(match)"
   ]
  },
  {
   "cell_type": "markdown",
   "id": "32df8860-270c-4589-af24-ab4ba5bde4ff",
   "metadata": {},
   "source": [
    "Project: Identify the months in a string containing dates."
   ]
  },
  {
   "cell_type": "code",
   "execution_count": 59,
   "id": "75dead24-660e-439a-867d-e3d9010c1a9a",
   "metadata": {},
   "outputs": [
    {
     "name": "stdout",
     "output_type": "stream",
     "text": [
      "<re.Match object; span=(1, 11), match='2021.04.23'>\n",
      "<re.Match object; span=(12, 22), match='2022-05-03'>\n",
      "<re.Match object; span=(23, 33), match='2021/03/01'>\n"
     ]
    }
   ],
   "source": [
    "mydates=\"\"\"\n",
    "2021.04.23\n",
    "2022-05-03\n",
    "2021/03/01\n",
    "\"\"\"\n",
    "pattern=re.compile(r'\\d\\d\\d\\d.\\d\\d.\\d\\d')\n",
    "matches=pattern.finditer(mydates) \n",
    "\n",
    "for match in matches:\n",
    "    print(match)"
   ]
  },
  {
   "cell_type": "code",
   "execution_count": 62,
   "id": "659f04a8-ce7d-4369-963c-1a3a784fca2f",
   "metadata": {},
   "outputs": [
    {
     "name": "stdout",
     "output_type": "stream",
     "text": [
      "<re.Match object; span=(12, 22), match='2022-05-03'>\n"
     ]
    }
   ],
   "source": [
    "pattern=re.compile(r'\\d\\d\\d\\d.\\d[5].\\d\\d')\n",
    "matches=pattern.finditer(mydates) \n",
    "\n",
    "for match in matches:\n",
    "    print(match)"
   ]
  },
  {
   "cell_type": "code",
   "execution_count": null,
   "id": "e2ee873c-325c-4b51-8c24-706480c722f0",
   "metadata": {},
   "outputs": [],
   "source": []
  }
 ],
 "metadata": {
  "kernelspec": {
   "display_name": "Python 3 (ipykernel)",
   "language": "python",
   "name": "python3"
  },
  "language_info": {
   "codemirror_mode": {
    "name": "ipython",
    "version": 3
   },
   "file_extension": ".py",
   "mimetype": "text/x-python",
   "name": "python",
   "nbconvert_exporter": "python",
   "pygments_lexer": "ipython3",
   "version": "3.9.2"
  }
 },
 "nbformat": 4,
 "nbformat_minor": 5
}
