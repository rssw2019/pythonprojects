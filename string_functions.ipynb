{
 "cells": [
  {
   "cell_type": "code",
   "execution_count": 35,
   "id": "ac723b6b-c5d9-4c78-bbbd-1f4e17e70b91",
   "metadata": {},
   "outputs": [
    {
     "name": "stdout",
     "output_type": "stream",
     "text": [
      "Hello\n",
      "<class 'str'>\n"
     ]
    }
   ],
   "source": [
    "x=\"Hello\"\n",
    "print(x)\n",
    "print(type(x))"
   ]
  },
  {
   "cell_type": "code",
   "execution_count": 37,
   "id": "f6cd060c-89ad-45bd-9e33-bd46e3a1480b",
   "metadata": {},
   "outputs": [
    {
     "name": "stdout",
     "output_type": "stream",
     "text": [
      "Hello how are you?\n",
      "18\n",
      "3\n",
      "1\n"
     ]
    }
   ],
   "source": [
    "paragraph='Hello how are you?'\n",
    "print(paragraph)\n",
    "print(len(paragraph))\n",
    "print(paragraph.count(' '))\n",
    "print(paragraph.count('are'))"
   ]
  },
  {
   "cell_type": "code",
   "execution_count": 41,
   "id": "03c88341-e55f-49ed-b89e-34872c690be2",
   "metadata": {},
   "outputs": [
    {
     "name": "stdout",
     "output_type": "stream",
     "text": [
      "l\n",
      "ow are you?\n",
      "Hello \n",
      "you?\n",
      "Hello how are y\n",
      "o ho\n"
     ]
    }
   ],
   "source": [
    "print(paragraph[3])\n",
    "print(paragraph[7:])\n",
    "print(paragraph[:6])\n",
    "print(paragraph[-4:])\n",
    "print(paragraph[:-3])\n",
    "print(paragraph[4:8])"
   ]
  },
  {
   "cell_type": "code",
   "execution_count": 47,
   "id": "a84770d0-e4bf-4580-9598-be558bae8114",
   "metadata": {},
   "outputs": [],
   "source": [
    "#Write a program to display the total number of words in a given paragraph."
   ]
  },
  {
   "cell_type": "code",
   "execution_count": 45,
   "id": "4c9383a4-6d88-4e7d-8a3c-57c19344cc3d",
   "metadata": {},
   "outputs": [
    {
     "name": "stdin",
     "output_type": "stream",
     "text": [
      "Enter your paragraph Hello how are you?\n"
     ]
    },
    {
     "name": "stdout",
     "output_type": "stream",
     "text": [
      "4\n"
     ]
    }
   ],
   "source": [
    "x=input(\"Enter your paragraph\")\n",
    "total_words=0\n",
    "for character in x:\n",
    "    if character==\" \":\n",
    "        total_words=total_words+1\n",
    "        \n",
    "print(total_words+1)"
   ]
  },
  {
   "cell_type": "raw",
   "id": "1342c47b-ab7d-4f01-a678-d26a72a64a2c",
   "metadata": {},
   "source": [
    "Write a simple function to count the number of words in a given paragraph."
   ]
  },
  {
   "cell_type": "code",
   "execution_count": 32,
   "id": "6c08b4c8-e905-4672-b1ba-495c5a199f51",
   "metadata": {},
   "outputs": [],
   "source": [
    "def my_counter(x):\n",
    "    count=0\n",
    "    for character in paragraph:\n",
    "        if character==\" \":\n",
    "            count=count+1\n",
    "    print(count+1)\n"
   ]
  },
  {
   "cell_type": "code",
   "execution_count": 33,
   "id": "eb5722ca-7382-4669-94a3-3c21ec678152",
   "metadata": {},
   "outputs": [
    {
     "name": "stdout",
     "output_type": "stream",
     "text": [
      "4\n"
     ]
    }
   ],
   "source": [
    "my_counter(\"Hello how are you\")"
   ]
  },
  {
   "cell_type": "code",
   "execution_count": null,
   "id": "3677a714-dd4c-48aa-9664-a10e26fca441",
   "metadata": {},
   "outputs": [],
   "source": []
  }
 ],
 "metadata": {
  "kernelspec": {
   "display_name": "Python 3 (ipykernel)",
   "language": "python",
   "name": "python3"
  },
  "language_info": {
   "codemirror_mode": {
    "name": "ipython",
    "version": 3
   },
   "file_extension": ".py",
   "mimetype": "text/x-python",
   "name": "python",
   "nbconvert_exporter": "python",
   "pygments_lexer": "ipython3",
   "version": "3.9.2"
  }
 },
 "nbformat": 4,
 "nbformat_minor": 5
}
